{
 "cells": [
  {
   "cell_type": "markdown",
   "metadata": {
    "slideshow": {
     "slide_type": "slide"
    }
   },
   "source": [
    "# MNIST Digit Classification\n",
    "\n",
    "SKIP most for PBDS Meetup 07/18/2019\n",
    "\n",
    "\n",
    "[Show MNIST digit set image]\n"
   ]
  },
  {
   "cell_type": "code",
   "execution_count": 1,
   "metadata": {
    "slideshow": {
     "slide_type": "fragment"
    }
   },
   "outputs": [
    {
     "name": "stdout",
     "output_type": "stream",
     "text": [
      "TensorFlow: 1.13.1  Keras: 2.2.4-tf\n"
     ]
    },
    {
     "name": "stderr",
     "output_type": "stream",
     "text": [
      "Using TensorFlow backend.\n"
     ]
    }
   ],
   "source": [
    "# Using TensorFlow 1.13.1\n",
    "import tensorflow as tf\n",
    "import tensorflow.keras as keras\n",
    "import numpy as np\n",
    "import os\n",
    "import matplotlib.pyplot as plt\n",
    "from datetime import datetime\n",
    "\n",
    "# Add tensorflow.keras imports\n",
    "from keras import models\n",
    "from keras import layers\n",
    "from keras.utils import to_categorical\n",
    "from keras.datasets import mnist\n",
    "\n",
    "print(\"TensorFlow:\", tf.__version__, \" Keras:\", keras.__version__)"
   ]
  },
  {
   "cell_type": "markdown",
   "metadata": {
    "slideshow": {
     "slide_type": "slide"
    }
   },
   "source": [
    "# MNIST Digits Dataset\n",
    "\n"
   ]
  },
  {
   "cell_type": "code",
   "execution_count": 2,
   "metadata": {
    "slideshow": {
     "slide_type": "fragment"
    }
   },
   "outputs": [
    {
     "name": "stdout",
     "output_type": "stream",
     "text": [
      "train_images.shape: (60000, 28, 28) train_labels len: 60000\n"
     ]
    }
   ],
   "source": [
    "# Read Keras MNIST dataset\n",
    "(train_images, train_labels), (test_images, test_labels) = mnist.load_data()\n",
    "\n",
    "print(\"train_images.shape:\", train_images.shape, \"train_labels len:\", len(train_labels))"
   ]
  },
  {
   "cell_type": "code",
   "execution_count": 3,
   "metadata": {
    "slideshow": {
     "slide_type": "slide"
    }
   },
   "outputs": [
    {
     "name": "stdout",
     "output_type": "stream",
     "text": [
      "MNIST First four labels:\n",
      " [5 0 4 1]\n",
      "MNIST First digit (partial crop):\n",
      " [[  0   0   0   0   0   0   0   0   0   0   0   0   0   0   0   0   0   0]\n",
      " [  0   0   0   0   0   0   3  18  18  18 126 136 175  26 166 255 247 127]\n",
      " [  0   0  30  36  94 154 170 253 253 253 253 253 225 172 253 242 195  64]\n",
      " [  0  49 238 253 253 253 253 253 253 253 253 251  93  82  82  56  39   0]\n",
      " [  0  18 219 253 253 253 253 253 198 182 247 241   0   0   0   0   0   0]\n",
      " [  0   0  80 156 107 253 253 205  11   0  43 154   0   0   0   0   0   0]\n",
      " [  0   0   0  14   1 154 253  90   0   0   0   0   0   0   0   0   0   0]\n",
      " [  0   0   0   0   0 139 253 190   2   0   0   0   0   0   0   0   0   0]\n",
      " [  0   0   0   0   0  11 190 253  70   0   0   0   0   0   0   0   0   0]\n",
      " [  0   0   0   0   0   0  35 241 225 160 108   1   0   0   0   0   0   0]\n",
      " [  0   0   0   0   0   0   0  81 240 253 253 119  25   0   0   0   0   0]\n",
      " [  0   0   0   0   0   0   0   0  45 186 253 253 150  27   0   0   0   0]\n",
      " [  0   0   0   0   0   0   0   0   0  16  93 252 253 187   0   0   0   0]\n",
      " [  0   0   0   0   0   0   0   0   0   0   0 249 253 249  64   0   0   0]\n",
      " [  0   0   0   0   0   0   0   0  46 130 183 253 253 207   2   0   0   0]\n",
      " [  0   0   0   0   0   0  39 148 229 253 253 253 250 182   0   0   0   0]\n",
      " [  0   0   0   0  24 114 221 253 253 253 253 201  78   0   0   0   0   0]\n",
      " [  0   0  23  66 213 253 253 253 253 198  81   2   0   0   0   0   0   0]\n",
      " [ 18 171 219 253 253 253 253 195  80   9   0   0   0   0   0   0   0   0]\n",
      " [226 253 253 253 253 244 133  11   0   0   0   0   0   0   0   0   0   0]\n",
      " [253 253 212 135 132  16   0   0   0   0   0   0   0   0   0   0   0   0]\n",
      " [  0   0   0   0   0   0   0   0   0   0   0   0   0   0   0   0   0   0]]\n"
     ]
    }
   ],
   "source": [
    "# First three labels\n",
    "print(\"MNIST First four labels:\\n\", train_labels[:4])\n",
    "# First digit\n",
    "print(\"MNIST First digit (partial crop):\\n\", train_images[0,4:26,6:24])"
   ]
  },
  {
   "cell_type": "markdown",
   "metadata": {
    "slideshow": {
     "slide_type": "slide"
    }
   },
   "source": [
    "## Preparing MNIST Digits for Input to MLP\n",
    "\n",
    "Convert MNIST images for perceptron input\n",
    "* from 2-D arrays of 28 x 28 pixels, \n",
    "* to 1-D vector of 784 (28*28) numbers, scaled to range [0, 1]."
   ]
  },
  {
   "cell_type": "code",
   "execution_count": 4,
   "metadata": {
    "slideshow": {
     "slide_type": "fragment"
    }
   },
   "outputs": [],
   "source": [
    "# MNIST images as normalized (_, 28*28) tensors for MLP\n",
    "train_images_mlp = train_images.reshape((60000, 28 * 28))\n",
    "train_images_mlp = train_images_mlp.astype('float32') / 255\n",
    "\n",
    "test_images_mlp = test_images.reshape((10000, 28 * 28))\n",
    "test_images_mlp = test_images_mlp.astype('float32') / 255"
   ]
  },
  {
   "cell_type": "code",
   "execution_count": 5,
   "metadata": {
    "slideshow": {
     "slide_type": "-"
    }
   },
   "outputs": [
    {
     "name": "stdout",
     "output_type": "stream",
     "text": [
      "MNIST First digit shape: 784 mean: 0.13768007 - min, max: 0.0 1.0\n"
     ]
    }
   ],
   "source": [
    "# First digit\n",
    "(shape0, mean0) = (train_images_mlp[0].shape[0], np.mean(train_images_mlp[0]))\n",
    "(min0, max0) = (np.min(train_images_mlp[0]), np.max(train_images_mlp[0]))\n",
    "print(\"MNIST First digit shape:\", shape0, \"mean:\", mean0, \"- min, max:\", min0, max0)"
   ]
  },
  {
   "cell_type": "code",
   "execution_count": 6,
   "metadata": {},
   "outputs": [],
   "source": [
    "# Convert MNIST labels [0-9] to categorical\n",
    "train_labels_cat = to_categorical(train_labels)\n",
    "test_labels_cat = to_categorical(test_labels)"
   ]
  },
  {
   "cell_type": "code",
   "execution_count": 7,
   "metadata": {},
   "outputs": [
    {
     "name": "stdout",
     "output_type": "stream",
     "text": [
      "MNIST First three labels:\n",
      " [5 0 4 1]\n",
      "First three labels categorical:\n",
      " [[0. 0. 0. 0. 0. 1. 0. 0. 0. 0.]\n",
      " [1. 0. 0. 0. 0. 0. 0. 0. 0. 0.]\n",
      " [0. 0. 0. 0. 1. 0. 0. 0. 0. 0.]\n",
      " [0. 1. 0. 0. 0. 0. 0. 0. 0. 0.]]\n"
     ]
    }
   ],
   "source": [
    "# First three labels\n",
    "print(\"MNIST First three labels:\\n\", train_labels[:4])\n",
    "print(\"First three labels categorical:\\n\", train_labels_cat[:4])"
   ]
  },
  {
   "cell_type": "markdown",
   "metadata": {
    "slideshow": {
     "slide_type": "slide"
    }
   },
   "source": [
    "# Multi-Layer Perceptron MNIST Classifier (MLP)\n",
    "\n",
    "\n",
    "* MLP single-layer (~97% with one hidden layer, 256 nodes; total trainable params: 203,530)\n",
    "\n",
    "### Homework\n",
    "* MLP two-layer (~98% with two hidden layers) - skip\n",
    "* Deep MLP with regularization (dropout, data augmentation) - skip\n"
   ]
  },
  {
   "cell_type": "code",
   "execution_count": 9,
   "metadata": {
    "slideshow": {
     "slide_type": "fragment"
    }
   },
   "outputs": [],
   "source": [
    "# Define MLP: one hidden layer of 256 nodes - 10-class softmax output\n",
    "mlp = models.Sequential()\n",
    "mlp.add(layers.Dense(256, activation='relu', input_shape=(28 * 28,)))\n",
    "mlp.add(layers.Dense(10, activation='softmax'))\n",
    "\n",
    "mlp.compile(optimizer='rmsprop', loss='categorical_crossentropy', metrics=['accuracy'])"
   ]
  },
  {
   "cell_type": "code",
   "execution_count": 10,
   "metadata": {
    "slideshow": {
     "slide_type": "slide"
    }
   },
   "outputs": [
    {
     "name": "stdout",
     "output_type": "stream",
     "text": [
      "_________________________________________________________________\n",
      "Layer (type)                 Output Shape              Param #   \n",
      "=================================================================\n",
      "dense_3 (Dense)              (None, 256)               200960    \n",
      "_________________________________________________________________\n",
      "dense_4 (Dense)              (None, 10)                2570      \n",
      "=================================================================\n",
      "Total params: 203,530\n",
      "Trainable params: 203,530\n",
      "Non-trainable params: 0\n",
      "_________________________________________________________________\n"
     ]
    }
   ],
   "source": [
    "# Summarize MLP\n",
    "mlp.summary()"
   ]
  },
  {
   "cell_type": "markdown",
   "metadata": {
    "slideshow": {
     "slide_type": "slide"
    }
   },
   "source": [
    "## Train Multi-Layer Perceptron on MNIST\n",
    "\n",
    "* Use Keras `mlp.fit(train_inputs, train_outputs)`"
   ]
  },
  {
   "cell_type": "code",
   "execution_count": 11,
   "metadata": {
    "slideshow": {
     "slide_type": "fragment"
    }
   },
   "outputs": [
    {
     "name": "stdout",
     "output_type": "stream",
     "text": [
      "WARNING:tensorflow:From /Users/nelson/dev/anaconda3/lib/python3.7/site-packages/tensorflow/python/ops/math_ops.py:3066: to_int32 (from tensorflow.python.ops.math_ops) is deprecated and will be removed in a future version.\n",
      "Instructions for updating:\n",
      "Use tf.cast instead.\n",
      "Train on 48000 samples, validate on 12000 samples\n",
      "Epoch 1/10\n",
      "48000/48000 [==============================] - 1s 25us/step - loss: 0.3247 - acc: 0.9085 - val_loss: 0.1709 - val_acc: 0.9499\n",
      "Epoch 2/10\n",
      "48000/48000 [==============================] - 1s 21us/step - loss: 0.1432 - acc: 0.9588 - val_loss: 0.1235 - val_acc: 0.9658\n",
      "Epoch 3/10\n",
      "48000/48000 [==============================] - 1s 21us/step - loss: 0.0976 - acc: 0.9716 - val_loss: 0.1127 - val_acc: 0.9668\n",
      "Epoch 4/10\n",
      "48000/48000 [==============================] - 1s 22us/step - loss: 0.0731 - acc: 0.9789 - val_loss: 0.0939 - val_acc: 0.9723\n",
      "Epoch 5/10\n",
      "48000/48000 [==============================] - 1s 21us/step - loss: 0.0568 - acc: 0.9836 - val_loss: 0.0887 - val_acc: 0.9739\n",
      "Epoch 6/10\n",
      "48000/48000 [==============================] - 1s 22us/step - loss: 0.0457 - acc: 0.9870 - val_loss: 0.0842 - val_acc: 0.9762\n",
      "Epoch 7/10\n",
      "48000/48000 [==============================] - 1s 21us/step - loss: 0.0367 - acc: 0.9897 - val_loss: 0.0789 - val_acc: 0.9772\n",
      "Epoch 8/10\n",
      "48000/48000 [==============================] - 1s 22us/step - loss: 0.0298 - acc: 0.9916 - val_loss: 0.0787 - val_acc: 0.9775\n",
      "Epoch 9/10\n",
      "48000/48000 [==============================] - 1s 22us/step - loss: 0.0237 - acc: 0.9936 - val_loss: 0.0784 - val_acc: 0.9785\n",
      "Epoch 10/10\n",
      "48000/48000 [==============================] - 1s 22us/step - loss: 0.0193 - acc: 0.9949 - val_loss: 0.0826 - val_acc: 0.9777\n"
     ]
    }
   ],
   "source": [
    "# Train MLP; using validation_split = 0.2\n",
    "history = mlp.fit(train_images_mlp, train_labels_cat, \n",
    "                  epochs=10, batch_size=128, validation_split=0.2)"
   ]
  },
  {
   "cell_type": "code",
   "execution_count": 12,
   "metadata": {
    "slideshow": {
     "slide_type": "slide"
    }
   },
   "outputs": [
    {
     "name": "stdout",
     "output_type": "stream",
     "text": [
      "Epochs: 10, Best training acc: 0.9949375, Best val_acc: 0.9785000001589457\n"
     ]
    },
    {
     "data": {
      "image/png": "[encoded data removed]",
      "text/plain": [
       "<Figure size 1296x360 with 2 Axes>"
      ]
     },
     "metadata": {
      "needs_background": "light"
     },
     "output_type": "display_data"
    }
   ],
   "source": [
    "# Visualize MLP accuracy, loss on MNIST training and validation data\n",
    "\n",
    "# Define acc, loss plot function\n",
    "def plot_acc_loss(history):\n",
    "    acc = history.history['acc']\n",
    "    val_acc = history.history['val_acc']\n",
    "    loss = history.history['loss']\n",
    "    val_loss = history.history['val_loss']\n",
    "\n",
    "    epochs = range(len(acc))\n",
    "    accuracy_template = \"Epochs: {}, Best training acc: {}, Best val_acc: {}\"\n",
    "    print(accuracy_template.format(len(epochs), np.max(acc), np.max(val_acc)))\n",
    "\n",
    "    plt.figure(figsize=(18,5))\n",
    "    plt.subplot(121)\n",
    "    plt.plot(epochs, acc, 'bo', label='Training acc')\n",
    "    plt.plot(epochs, val_acc, 'b', label='Validation acc')\n",
    "    plt.title('Training and validation accuracy')\n",
    "    plt.xlabel('Epoch')\n",
    "    plt.ylabel('Accuracy')\n",
    "    plt.legend()\n",
    "    plt.subplot(122)\n",
    "    plt.plot(epochs, loss, 'bo', label='Training loss')\n",
    "    plt.plot(epochs, val_loss, 'b', label='Validation loss')\n",
    "    plt.title('Training and validation loss')\n",
    "    plt.xlabel('Epoch')\n",
    "    plt.ylabel('Loss')\n",
    "    plt.legend()\n",
    "    plt.show()\n",
    "    return None\n",
    "\n",
    "plot_acc_loss(history)"
   ]
  },
  {
   "cell_type": "markdown",
   "metadata": {
    "slideshow": {
     "slide_type": "slide"
    }
   },
   "source": [
    "## Evaluate Multi-Layer Perceptron on MNIST\n",
    "\n",
    "* Use Keras `mlp.evaluate(test_inputs, test_outputs)`"
   ]
  },
  {
   "cell_type": "code",
   "execution_count": 13,
   "metadata": {
    "slideshow": {
     "slide_type": "fragment"
    }
   },
   "outputs": [
    {
     "name": "stdout",
     "output_type": "stream",
     "text": [
      "10000/10000 [==============================] - 0s 19us/step\n",
      "MLP Test accuracy: 0.98 - MLP Test loss: 0.07149975089433429\n"
     ]
    }
   ],
   "source": [
    "# Evaluate MLP classifier\n",
    "test_loss, test_acc = mlp.evaluate(test_images_mlp, test_labels_cat)\n",
    "print('MLP Test accuracy:', test_acc, '- MLP Test loss:', test_loss)"
   ]
  },
  {
   "cell_type": "markdown",
   "metadata": {
    "slideshow": {
     "slide_type": "slide"
    }
   },
   "source": [
    "# Convolutional Neural Networks (CNNs)\n",
    "\n",
    "* LeCun, 1989.\n",
    "\n",
    "ZIPCODE digit recognizer\n",
    "\n"
   ]
  },
  {
   "cell_type": "markdown",
   "metadata": {
    "slideshow": {
     "slide_type": "slide"
    }
   },
   "source": [
    "## CNN Elements: Filters, Layers, Strides and Padding\n",
    "\n",
    "\n",
    "Figure"
   ]
  },
  {
   "cell_type": "markdown",
   "metadata": {
    "slideshow": {
     "slide_type": "slide"
    }
   },
   "source": [
    "# Convolutional Neural Network MNIST Classifier (CNN)\n",
    "\n",
    "* CNN (~98% with one hidden layer) - skip\n",
    "* CNN (~99.2% with three hidden layers, total trainable params: 130,890)\n",
    "* CNN Test accuracy: 0.9919\n",
    "\n",
    "Contrast CNN trainable parameters and accuracy (~99.2%, trainable params: 130,890) \n",
    "to single-layer MLP (~98% with one hidden layer, 256 nodes; total trainable params: 203,530).\n"
   ]
  },
  {
   "cell_type": "code",
   "execution_count": 14,
   "metadata": {
    "slideshow": {
     "slide_type": "fragment"
    }
   },
   "outputs": [],
   "source": [
    "# Keras CNN MNIST classifier - Three-Layer Convolutional Neural Network\n",
    "# CNN input (28, 28, 1) images - CNN output (3, 3, 64) tensor\n",
    "cnn = models.Sequential()\n",
    "cnn.add(layers.Conv2D(32, (3, 3), activation='relu', input_shape=(28, 28, 1)))\n",
    "cnn.add(layers.MaxPooling2D((2, 2)))\n",
    "cnn.add(layers.Conv2D(64, (3, 3), activation='relu'))\n",
    "cnn.add(layers.MaxPooling2D((2, 2)))\n",
    "cnn.add(layers.Conv2D(64, (3, 3), activation='relu'))\n",
    "\n",
    "# Fully-connected (MLP) output classifier - 10-class softmax output\n",
    "cnn.add(layers.Flatten())\n",
    "cnn.add(layers.Dense(128, activation='relu'))\n",
    "cnn.add(layers.Dense(10, activation='softmax'))\n",
    "\n",
    "cnn.compile(optimizer='rmsprop', loss='categorical_crossentropy', metrics=['accuracy'])"
   ]
  },
  {
   "cell_type": "code",
   "execution_count": 15,
   "metadata": {
    "slideshow": {
     "slide_type": "slide"
    }
   },
   "outputs": [
    {
     "name": "stdout",
     "output_type": "stream",
     "text": [
      "_________________________________________________________________\n",
      "Layer (type)                 Output Shape              Param #   \n",
      "=================================================================\n",
      "conv2d_1 (Conv2D)            (None, 26, 26, 32)        320       \n",
      "_________________________________________________________________\n",
      "max_pooling2d_1 (MaxPooling2 (None, 13, 13, 32)        0         \n",
      "_________________________________________________________________\n",
      "conv2d_2 (Conv2D)            (None, 11, 11, 64)        18496     \n",
      "_________________________________________________________________\n",
      "max_pooling2d_2 (MaxPooling2 (None, 5, 5, 64)          0         \n",
      "_________________________________________________________________\n",
      "conv2d_3 (Conv2D)            (None, 3, 3, 64)          36928     \n",
      "_________________________________________________________________\n",
      "flatten_1 (Flatten)          (None, 576)               0         \n",
      "_________________________________________________________________\n",
      "dense_5 (Dense)              (None, 128)               73856     \n",
      "_________________________________________________________________\n",
      "dense_6 (Dense)              (None, 10)                1290      \n",
      "=================================================================\n",
      "Total params: 130,890\n",
      "Trainable params: 130,890\n",
      "Non-trainable params: 0\n",
      "_________________________________________________________________\n"
     ]
    }
   ],
   "source": [
    "# Model summary\n",
    "cnn.summary()"
   ]
  },
  {
   "cell_type": "markdown",
   "metadata": {
    "slideshow": {
     "slide_type": "slide"
    }
   },
   "source": [
    "## Preparing MNIST Digits for Input to CNN\n",
    "\n",
    "Convert MNIST images for CNN input\n",
    "* from 2-D array of 28 x 28 pixels, \n",
    "* to 3-D tensor of shape (28, 28, 1), scaled to range [0, 1]."
   ]
  },
  {
   "cell_type": "code",
   "execution_count": 16,
   "metadata": {
    "slideshow": {
     "slide_type": "fragment"
    }
   },
   "outputs": [
    {
     "name": "stdout",
     "output_type": "stream",
     "text": [
      "train_images_cnn.shape: (60000, 28, 28, 1)\n",
      "train_labels_cat len: 60000\n"
     ]
    }
   ],
   "source": [
    "# MNIST images as (_, 28, 28, 1) tensors for CNN input\n",
    "train_images_cnn = train_images.reshape((60000, 28, 28, 1))\n",
    "train_images_cnn = train_images_cnn.astype('float32') / 255\n",
    "\n",
    "test_images_cnn = test_images.reshape((10000, 28, 28, 1))\n",
    "test_images_cnn = test_images_cnn.astype('float32') / 255\n",
    "print(\"train_images_cnn.shape:\", train_images_cnn.shape)\n",
    "print(\"train_labels_cat len:\", len(train_labels_cat))"
   ]
  },
  {
   "cell_type": "markdown",
   "metadata": {
    "slideshow": {
     "slide_type": "slide"
    }
   },
   "source": [
    "## Train CNN with MLP output classifier"
   ]
  },
  {
   "cell_type": "code",
   "execution_count": 17,
   "metadata": {
    "slideshow": {
     "slide_type": "fragment"
    }
   },
   "outputs": [
    {
     "name": "stdout",
     "output_type": "stream",
     "text": [
      "Train on 54000 samples, validate on 6000 samples\n",
      "Epoch 1/10\n",
      "54000/54000 [==============================] - 21s 395us/step - loss: 0.1697 - acc: 0.9481 - val_loss: 0.0450 - val_acc: 0.9862\n",
      "Epoch 2/10\n",
      "54000/54000 [==============================] - 22s 406us/step - loss: 0.0478 - acc: 0.9850 - val_loss: 0.0375 - val_acc: 0.9875\n",
      "Epoch 3/10\n",
      "54000/54000 [==============================] - 23s 420us/step - loss: 0.0317 - acc: 0.9900 - val_loss: 0.0356 - val_acc: 0.9895\n",
      "Epoch 4/10\n",
      "54000/54000 [==============================] - 22s 416us/step - loss: 0.0244 - acc: 0.9923 - val_loss: 0.0329 - val_acc: 0.9913\n",
      "Epoch 5/10\n",
      "54000/54000 [==============================] - 22s 414us/step - loss: 0.0198 - acc: 0.9939 - val_loss: 0.0356 - val_acc: 0.9908\n",
      "Epoch 6/10\n",
      "54000/54000 [==============================] - 22s 409us/step - loss: 0.0161 - acc: 0.9952 - val_loss: 0.0537 - val_acc: 0.9880\n",
      "Epoch 7/10\n",
      "54000/54000 [==============================] - 22s 409us/step - loss: 0.0136 - acc: 0.9959 - val_loss: 0.0443 - val_acc: 0.9908\n",
      "Epoch 8/10\n",
      "54000/54000 [==============================] - 22s 411us/step - loss: 0.0103 - acc: 0.9968 - val_loss: 0.0333 - val_acc: 0.9942\n",
      "Epoch 9/10\n",
      "54000/54000 [==============================] - 22s 411us/step - loss: 0.0097 - acc: 0.9975 - val_loss: 0.0387 - val_acc: 0.9930\n",
      "Epoch 10/10\n",
      "54000/54000 [==============================] - 22s 417us/step - loss: 0.0079 - acc: 0.9976 - val_loss: 0.0552 - val_acc: 0.9908\n"
     ]
    }
   ],
   "source": [
    "# Train CNN with MLP output classifier\n",
    "history = cnn.fit(train_images_cnn, train_labels_cat, \n",
    "                    epochs=10, batch_size=64, validation_split=0.1)"
   ]
  },
  {
   "cell_type": "code",
   "execution_count": 18,
   "metadata": {
    "slideshow": {
     "slide_type": "slide"
    }
   },
   "outputs": [
    {
     "name": "stdout",
     "output_type": "stream",
     "text": [
      "Epochs: 10, Best training acc: 0.9975740740740741, Best val_acc: 0.9941666666666666\n"
     ]
    },
    {
     "data": {
      "image/png": "[encoded data removed]",
      "text/plain": [
       "<Figure size 1296x360 with 2 Axes>"
      ]
     },
     "metadata": {
      "needs_background": "light"
     },
     "output_type": "display_data"
    }
   ],
   "source": [
    "# Plot acc, loss\n",
    "plot_acc_loss(history)"
   ]
  },
  {
   "cell_type": "markdown",
   "metadata": {
    "slideshow": {
     "slide_type": "slide"
    }
   },
   "source": [
    "## Evaluate CNN classifier"
   ]
  },
  {
   "cell_type": "code",
   "execution_count": 19,
   "metadata": {
    "slideshow": {
     "slide_type": "fragment"
    }
   },
   "outputs": [
    {
     "name": "stdout",
     "output_type": "stream",
     "text": [
      "10000/10000 [==============================] - 1s 104us/step\n",
      "CNN Test accuracy: 0.9914 CNN Test loss: 0.040052228675535165\n"
     ]
    }
   ],
   "source": [
    "# Evaluate CNN classifier\n",
    "test_loss, test_acc = cnn.evaluate(test_images_cnn, test_labels_cat)\n",
    "print('CNN Test accuracy:', test_acc, 'CNN Test loss:', test_loss)"
   ]
  },
  {
   "cell_type": "markdown",
   "metadata": {
    "slideshow": {
     "slide_type": "slide"
    }
   },
   "source": [
    "# MNIST with Traditional Machine Learning \n",
    "\n",
    "## Multinomial MNIST Classifiers\n",
    "\n",
    "### Homework: Naive Bayes (NB), Stochastic Gradient Descent (SGD)\n",
    "\n",
    "GaussianNB, SGDClassifier from Scikit-Learn\n",
    "\n",
    "* e.g., sklearn.GaussianNB, sklearn.SGDClassifier (MNIST accuracy of ~85%)\n",
    "\n",
    "## Feature engineering\n",
    "\n",
    "Feature engineering is important, more so for shallow MLP and traditional statistical classifiers.\n",
    "\n",
    "* Input scaling (e.g., sklearn.StandardScaler on MNIST improves accuracy to ~90%)\n",
    "* Deep networks beat hand-engineered features, with optimal, automatically learned features of, for example, CNN filters\n"
   ]
  },
  {
   "cell_type": "markdown",
   "metadata": {
    "slideshow": {
     "slide_type": "skip"
    }
   },
   "source": [
    "# Capsules Neural Network MNIST Classifier (CapsNet)\n",
    "\n",
    "\n",
    "* Capsule Networks (CapsNet, Sabour, X, Hinton, 2017; Zhen, KPU, 2019) - skip\n"
   ]
  },
  {
   "cell_type": "markdown",
   "metadata": {
    "slideshow": {
     "slide_type": "slide"
    }
   },
   "source": [
    "# MNIST State-of-the-Art (SOTA)\n",
    "\n",
    "## MNIST Test accuracy stands at 99.83% (in 2019)\n",
    "\n",
    "\n",
    "#### Record (03/2019)\n",
    "* Zhao et al., 2019, report absolute MNIST error rate reduction from previous best 0.21% (99.79% accuracy) to 0.17% (99.83% accuracy).\n",
    "* *Capsule Networks with Max-Min Normalization*, \n",
    "Zhen Zhao, Ashley Kleinhans, Gursharan Sandhu, Ishan Patel, K. P. Unnikrishnan, 2019, \n",
    "https://arxiv.org/abs/1903.09662.\n",
    "\n",
    "#### Others (2017 -  2018)\n",
    "* *Regularization of neural networks using dropconnect*, Li Wan, Matthew D Zeiler, Sixin Zhang, Yann LeCun, and Rob Fergus, ICML 2013.\n",
    "99.79% accuracy (0.39% error rate; 0.21% with ensembling)\n",
    "\n",
    "* *Dynamic Routing Between Capsules*,\n",
    "Sara Sabour, Nicholas Frosst, Geoffrey E Hinton, 2017 \n",
    "(https://arxiv.org/abs/1710.09829)\n",
    "99.75% accuracy (0.25% error rate)\n",
    "\n",
    "* Simple 3-layer CNN above (total params, 130,890) without any training regularization: `acc: 99.15%`\n"
   ]
  },
  {
   "cell_type": "markdown",
   "metadata": {
    "slideshow": {
     "slide_type": "slide"
    }
   },
   "source": [
    "## CapsNet with Max-Min: MNIST Test set errors\n",
    "\n",
    "\n",
    "Misclassified MNIST images using 3-model majority vote from CapsNets trained using Max-Min normalization\n",
    "\n",
    "<img src=\"./images/MNIST_maxmin_2019.png\" alt=\"Max-Min MNIST Test errors\" width=\"600\">\n",
    "\n",
    "* Total of 17 digit errors in 10,000 digit test set (99,83% test accuracy)\n",
    "* MNIST digit index 6576 - Ground Truth: \"7\"\n",
    "* current deep networks recognize as \"1\"; no human makes such error\n",
    "\n",
    "Source: [*Capsule Networks with Max-Min Normalization*, Zhao et al., 2019](https://arxiv.org/abs/1903.09662)\n"
   ]
  },
  {
   "cell_type": "markdown",
   "metadata": {
    "slideshow": {
     "slide_type": "slide"
    }
   },
   "source": [
    "## After 30 years, MNIST Test must be considered a *validation* set\n",
    "\n",
    "### ... it is no longer a *test* set.\n",
    "\n",
    "MNIST Test can no longer be considered a proper Test set. \n",
    "It is a digit classification Validation set.\n",
    "\n",
    "The MNIST dataset availability and focus on the MNIST task since 1989 have made the MNIST,  10,000 digit *\"Test\"* set  into a \"validation\" dataset.\n",
    "  * New *test sets* for MNIST, different from the original 1990 one, are needed!\n",
    "  * A new digit recognition benchmark is needed.\n",
    "\n",
    "\n",
    "### MNIST improvements are near the end (only 20 digits left for improvement)\n",
    "\n",
    "The MNIST Test set has a total of 60,000 training and 10,000 test digits.\n",
    "\n",
    "Zhao et al., 2019, use single classifiers with recognition error on only 20 to 23 digits of the 10,000 MNIST test digits.\n"
   ]
  },
  {
   "cell_type": "code",
   "execution_count": null,
   "metadata": {
    "slideshow": {
     "slide_type": "skip"
    }
   },
   "outputs": [],
   "source": []
  }
 ],
 "metadata": {
  "celltoolbar": "Slideshow",
  "kernelspec": {
   "display_name": "Python 3",
   "language": "python",
   "name": "python3"
  },
  "language_info": {
   "codemirror_mode": {
    "name": "ipython",
    "version": 3
   },
   "file_extension": ".py",
   "mimetype": "text/x-python",
   "name": "python",
   "nbconvert_exporter": "python",
   "pygments_lexer": "ipython3",
   "version": "3.7.3"
  }
 },
 "nbformat": 4,
 "nbformat_minor": 2
}
